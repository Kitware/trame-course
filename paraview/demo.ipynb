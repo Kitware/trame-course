{
 "cells": [
  {
   "cell_type": "code",
   "execution_count": 1,
   "id": "0db73d57-47e5-43b1-beb4-214aa19338ad",
   "metadata": {},
   "outputs": [
    {
     "data": {
      "text/html": [
       "<iframe id=\"trame_trame__template_main\" src=\"http://localhost:62601/index.html?ui=main&reconnect=auto\" style=\"border: none; width: 100%; height: 600px;\"></iframe>"
      ]
     },
     "metadata": {},
     "output_type": "display_data"
    }
   ],
   "source": [
    "from cone import Cone\n",
    "\n",
    "app = Cone()\n",
    "await app.ui.ready\n",
    "app.ui"
   ]
  },
  {
   "cell_type": "code",
   "execution_count": null,
   "id": "a2be7801-8a77-4156-a1c6-89c6c2f787b3",
   "metadata": {},
   "outputs": [],
   "source": []
  }
 ],
 "metadata": {
  "kernelspec": {
   "display_name": "Python 3 (ipykernel)",
   "language": "python",
   "name": "python3"
  },
  "language_info": {
   "codemirror_mode": {
    "name": "ipython",
    "version": 3
   },
   "file_extension": ".py",
   "mimetype": "text/x-python",
   "name": "python",
   "nbconvert_exporter": "python",
   "pygments_lexer": "ipython3",
   "version": "3.10.12"
  }
 },
 "nbformat": 4,
 "nbformat_minor": 5
}
