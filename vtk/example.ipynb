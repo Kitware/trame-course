{
 "cells": [
  {
   "cell_type": "code",
   "execution_count": 1,
   "id": "47ea7908-9ad1-4441-91b1-28765e0bb1db",
   "metadata": {},
   "outputs": [
    {
     "data": {
      "text/html": [
       "<iframe id=\"server_1_trame__template_main\" src=\"http://localhost:53312/index.html?ui=main&reconnect=auto\" style=\"border: none; width: 100%; height: 600px;\"></iframe>"
      ]
     },
     "metadata": {},
     "output_type": "display_data"
    }
   ],
   "source": [
    "from remote_rendering_class import Cone\n",
    "\n",
    "app1 = Cone(\"server_1\")\n",
    "await app1.ui.ready\n",
    "app1.ui"
   ]
  },
  {
   "cell_type": "code",
   "execution_count": 2,
   "id": "9db22bf2-f6f5-4d29-b41c-ce253be4ee53",
   "metadata": {},
   "outputs": [
    {
     "data": {
      "text/html": [
       "<iframe id=\"server_2_trame__template_main\" src=\"http://localhost:53318/index.html?ui=main&reconnect=auto\" style=\"border: none; width: 100%; height: 600px;\"></iframe>"
      ]
     },
     "metadata": {},
     "output_type": "display_data"
    }
   ],
   "source": [
    "app2 = Cone(\"server_2\")\n",
    "await app2.ui.ready\n",
    "app2.ui"
   ]
  },
  {
   "cell_type": "code",
   "execution_count": 3,
   "id": "4fabeb67-99ce-42de-bcff-24a466b7f4cb",
   "metadata": {},
   "outputs": [],
   "source": [
    "app1.resolution = 60"
   ]
  },
  {
   "cell_type": "code",
   "execution_count": null,
   "id": "7ab7e0f1-b35b-4aba-8789-e2d5a3d6c42c",
   "metadata": {},
   "outputs": [],
   "source": []
  }
 ],
 "metadata": {
  "kernelspec": {
   "display_name": "Python 3 (ipykernel)",
   "language": "python",
   "name": "python3"
  },
  "language_info": {
   "codemirror_mode": {
    "name": "ipython",
    "version": 3
   },
   "file_extension": ".py",
   "mimetype": "text/x-python",
   "name": "python",
   "nbconvert_exporter": "python",
   "pygments_lexer": "ipython3",
   "version": "3.10.14"
  }
 },
 "nbformat": 4,
 "nbformat_minor": 5
}
